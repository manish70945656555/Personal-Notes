{
 "cells": [
  {
   "cell_type": "markdown",
   "id": "1fcf78af-74ce-4fcb-835b-c91ffd9f2151",
   "metadata": {},
   "source": [
    "# Methods to handle missing values inside the dataset"
   ]
  },
  {
   "cell_type": "code",
   "execution_count": null,
   "id": "22ca3ee9-42a3-4fcd-97b4-7fb082141e7b",
   "metadata": {},
   "outputs": [],
   "source": [
    "1.Deleting the missing value\n",
    "2.Imputing the missing value\n",
    "3.Imputing the missing value for categorical features\n",
    "4.Imputing the missing values using sklearn library\n",
    "5.Imputing the missing value by using \"Missingness\" as a feature"
   ]
  },
  {
   "cell_type": "markdown",
   "id": "6f0ac20b-0ac7-49c8-aa72-ea6eff5713bf",
   "metadata": {},
   "source": [
    "### 1.Deleting the missing value"
   ]
  },
  {
   "cell_type": "code",
   "execution_count": null,
   "id": "fb5596bb-ad70-435f-94e1-ee495bd11a77",
   "metadata": {},
   "outputs": [],
   "source": [
    "#Deleting only MCAR and MAR , Not MNAR\n",
    "\n",
    "#Deleting values\n",
    "df.dropna(axis=0)\n",
    "\n",
    "#Deleting entire column\n",
    "df.drop(['column_name'],axis=1)"
   ]
  },
  {
   "cell_type": "markdown",
   "id": "074df24e-cb44-4633-a4b7-73a526fcf1fc",
   "metadata": {},
   "source": [
    "### 2.Imputing the missing value"
   ]
  },
  {
   "cell_type": "code",
   "execution_count": null,
   "id": "da5da968-f3ef-4794-8d82-95bd0b8a63c6",
   "metadata": {},
   "outputs": [],
   "source": [
    "#Replacing with an arbitratory value\n",
    "df['column_name'] = df['column_name'].fillna(Value)\n",
    "\n",
    "#Replacing with the mean of column\n",
    "\n",
    "df['column_name'] = df['column_name'].fillna(df['column_name'].mean())\n",
    "\n",
    "#Replacing with the mode of column\n",
    "\n",
    "df['column_name'] = df['column_name'].fillna(df['column_name'].mode()[0])\n",
    "\n",
    "#Replacing with the median of column\n",
    "\n",
    "df['column_name'] = df['column_name'].fillna(df['column_name'].median())\n",
    "\n",
    "#Imputing with forward and backward fill mostly in case of time series data\n",
    "\n",
    "df['column_name'] = df['column_name'].fillna(method='ffill') #Forward  Fill\n",
    "df['column_name'] = df['column_name'].fillna(method='bfill') #Backward Fill\n",
    "\n",
    "#Using Interpolate method\n",
    "df['column_name'].interpolate(method='linear', inplace=True) # we can use method as polynomial/linear/quadratic\n",
    "\n"
   ]
  },
  {
   "cell_type": "markdown",
   "id": "6dce8582-581f-42d9-9b98-8fc6320035b6",
   "metadata": {},
   "source": [
    "### 3.Imputing the missing value for categorical features"
   ]
  },
  {
   "cell_type": "code",
   "execution_count": null,
   "id": "1096a7ca-5196-4a9e-adcd-45310d0767ca",
   "metadata": {},
   "outputs": [],
   "source": [
    "#Using simpleimputer method of sklearn libraray\n",
    "imputer = SimpleImputer(strategy='most_frequent')\n",
    "\n",
    "#fill value technique\n",
    "imputer = SimpleImputer(strategy='constant', fill_value='missing') #value to replace"
   ]
  },
  {
   "cell_type": "markdown",
   "id": "1cee9e8d-041f-4231-896d-d687404e90ef",
   "metadata": {},
   "source": [
    "### 4.Imputing the missing values using sklearn library"
   ]
  },
  {
   "cell_type": "code",
   "execution_count": null,
   "id": "0717e73f-92ea-4e96-b4a3-47240de82f65",
   "metadata": {},
   "outputs": [],
   "source": [
    "#Univariate Approach\n",
    "SimpleImputer(missing_values=np.nan, strategy='mean')\n",
    "\n",
    "#Multivariate Approach\n",
    "from sklearn.experimental import enable_iterative_imputer\n",
    "from sklearn.impute import IterativeImputer\n",
    "impute_it = IterativeImputer()\n",
    "impute_it.fit_transform(X)"
   ]
  },
  {
   "cell_type": "code",
   "execution_count": null,
   "id": "474520e6-37ca-489d-999a-ad523e48d712",
   "metadata": {},
   "outputs": [],
   "source": [
    "# Using Nearest Neighbors Imputations for multivariate imputing (KNNImputer)\n",
    "impute_knn = KNNImputer(n_neighbors=2)\n",
    "impute_knn.fit_transform(X)"
   ]
  },
  {
   "cell_type": "markdown",
   "id": "a03a350e-8df5-4148-82b0-ad7498d4b15d",
   "metadata": {},
   "source": [
    "### 5.Imputing the missing value by using \"Missingness\" as a feature"
   ]
  },
  {
   "cell_type": "code",
   "execution_count": null,
   "id": "fb2a8cc0-63bd-47ba-a00f-cfc4b010497f",
   "metadata": {},
   "outputs": [],
   "source": [
    "from sklearn.impute\n",
    "import SimpleImputer\n",
    "# impute the mean\n",
    "imputer = SimpleImputer()\n",
    "imputer.fit_transform(X)\n",
    "imputer = SimpleImputer(add_indicator=True)\n",
    "imputer.fit_transform(X)"
   ]
  },
  {
   "cell_type": "markdown",
   "id": "c6a48dd7-15f1-46fe-8e7c-d512c73aaa62",
   "metadata": {},
   "source": [
    "In the above example, the second column indicates whether the corresponding value in the first column was missing or not. ‘1’ indicates that the corresponding value was missing, and ‘0’ indicates that the corresponding value was not missing.\n",
    "\n",
    "If you don’t want to impute missing values but only want to have the indicator matrix, then you can use the ‘MissingIndicator’ class from scikit learn."
   ]
  },
  {
   "cell_type": "code",
   "execution_count": null,
   "id": "cba19b0a-e26a-4d2e-b76c-a2bc71a1339a",
   "metadata": {},
   "outputs": [],
   "source": []
  }
 ],
 "metadata": {
  "kernelspec": {
   "display_name": "Python 3 (ipykernel)",
   "language": "python",
   "name": "python3"
  },
  "language_info": {
   "codemirror_mode": {
    "name": "ipython",
    "version": 3
   },
   "file_extension": ".py",
   "mimetype": "text/x-python",
   "name": "python",
   "nbconvert_exporter": "python",
   "pygments_lexer": "ipython3",
   "version": "3.10.8"
  }
 },
 "nbformat": 4,
 "nbformat_minor": 5
}
